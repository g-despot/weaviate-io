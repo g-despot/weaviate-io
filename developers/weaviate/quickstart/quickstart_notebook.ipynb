{
 "cells": [
  {
   "cell_type": "markdown",
   "id": "b6fe6b51-65f0-4588-801d-00c92c474330",
   "metadata": {},
   "source": [
    "# Weaviate Quickstart\n",
    "\n",
    "[![Google Colab](https://img.shields.io/badge/Google%20-%20Colab%20-%20%23F9AB00?style=for-the-badge&logo=googlecolab)](link-to-google-colab)\n",
    "\n",
    "Welcome to the **Weaviate Jupyter Notebook Quickstart**! 🚀\n",
    "\n",
    "In less than 30 minutes, you’ll set up Weaviate, load data, and explore basic semantic search and Retrieval-Augmented Generation (RAG) with OpenAI.  \n",
    "By the end, you will learn how to:\n",
    "1. [Run the Weaviate vector database with](#Step-1:-Set-up-Weaviate):\n",
    "    1. [Weaviate Cloud (WCD)](#1.1-Connect-to-a-Weaviate-Cloud-instance) or\n",
    "    2. [locally using Docker](#1.2-Run-Weaviate-locally-using-Docker)\n",
    "2. [Populate the database and generate vector embeddings](#Step-2:-Populate-the-database)\n",
    "3. [Perform a semantic search and retrieval augmented generation (RAG)](#Step-3:-Queries)"
   ]
  },
  {
   "cell_type": "markdown",
   "id": "751ad5ab-2bdc-4631-8a6b-f30b340f6e83",
   "metadata": {
    "jp-MarkdownHeadingCollapsed": true
   },
   "source": [
    "## Prerequisites\n",
    "\n",
    "To run this Jupyter Notebook, you will need the `weaviate-client` Python library. You can install it with: \n",
    "\n",
    "```\n",
    "pip install -U weaviate-client\n",
    "```\n",
    "\n",
    "You will also need an **[OpenAI API key](https://platform.openai.com/api-keys)** to use the OpenAI model to generate embeddings from text. \n",
    "\n",
    "You also need to choose if you will run Weaviate **[locally using Docker](#1.2-Run-Weaviate-locally-using-Docker)** or create a free Weaviate Cloud instance and **[connect to it](#1.1-Connect-to-a-Weaviate-Cloud-instance)**. \n"
   ]
  },
  {
   "cell_type": "markdown",
   "id": "f14dd5c4-42fd-41e5-a110-68c6432e80d6",
   "metadata": {},
   "source": [
    "## Step 1: Set up Weaviate"
   ]
  },
  {
   "cell_type": "markdown",
   "id": "8580de7e-30db-421d-b526-a41232aa0203",
   "metadata": {},
   "source": [
    "### 1.1 Connect to a Weaviate Cloud instance\n",
    "\n",
    "You can follow this guide to set up a new Weaviate Cloud instance:\n",
    "* [Create a Weaviate Cloud database](https://weaviate.io/developers/weaviate/quickstart#11-create-a-weaviate-database)"
   ]
  },
  {
   "cell_type": "markdown",
   "id": "770e916e-db1a-4970-baae-ea23a29ac44a",
   "metadata": {},
   "source": [
    "After the  cluster is created, you can grab the [REST Endpoint URL and the Admin API key](https://weaviate.io/developers/weaviate/quickstart#13-connect-to-weaviate).  \n",
    "You should store your credentials in environment variables as suggested in the code below: "
   ]
  },
  {
   "cell_type": "code",
   "execution_count": 6,
   "id": "5c85446d-0ba6-4c35-a05e-94bdf493d930",
   "metadata": {},
   "outputs": [
    {
     "name": "stdout",
     "output_type": "stream",
     "text": [
      "True\n"
     ]
    }
   ],
   "source": [
    "import weaviate\n",
    "from weaviate.classes.init import Auth\n",
    "import os\n",
    "\n",
    "# Best practice: store your credentials in environment variables\n",
    "wcd_url = os.environ[\"WCD_URL\"]\n",
    "wcd_api_key = os.environ[\"WCD_API_KEY\"]\n",
    "openai_api_key=  os.environ[\"OPENAI_API_KEY\"]\n",
    "\n",
    "\n",
    "client = weaviate.connect_to_weaviate_cloud(\n",
    "    cluster_url=wcd_url,                                    # Replace with your Weaviate Cloud URL\n",
    "    auth_credentials=Auth.api_key(wcd_api_key),             # Replace with your Weaviate Cloud key\n",
    "    headers={\"X-OpenAI-Api-Key\": openai_api_key}, \n",
    ")\n",
    "\n",
    "client.collections.delete_all()  # Clear the database\n",
    "\n",
    "print(client.is_ready())  # Should print: `True`\n"
   ]
  },
  {
   "cell_type": "markdown",
   "id": "e6e85f50-35a1-4fb1-93eb-94ceb4d5bb7c",
   "metadata": {},
   "source": [
    "### 1.2 Run Weaviate locally using Docker\n",
    "\n",
    "You can start a Weaviate database instance by running the following command: \n",
    "\n",
    "```\n",
    "docker run -p 8080:8080 -p 50051:50051 -e ENABLE_MODULES='text2vec-openai,generative-openai' cr.weaviate.io/semitechnologies/weaviate:1.27.1\n",
    "```\n",
    "\n",
    "This command will also set the environment variables `text2vec-openai` and `generative-openai` inside the container which are needed to enable the vectorizer and generative integrations for the OpenAI model."
   ]
  },
  {
   "cell_type": "code",
   "execution_count": 11,
   "id": "f6ddcb20-ac85-4de8-93b2-f3a9991fd11e",
   "metadata": {},
   "outputs": [
    {
     "name": "stdout",
     "output_type": "stream",
     "text": [
      "True\n"
     ]
    }
   ],
   "source": [
    "# Uncomment this code in order to connect to a locally running Weaviate instance\n",
    "\n",
    "\"\"\"\n",
    "import weaviate\n",
    "import os\n",
    "\n",
    "openai_api_key = os.environ[\"OPENAI_API_KEY\"]\n",
    "\n",
    "\n",
    "client = weaviate.connect_to_local(\n",
    "    headers={\"X-OpenAI-Api-Key\": openai_api_key}\n",
    ")\n",
    "\n",
    "client.collections.delete_all()  # Clear the database\n",
    "\n",
    "print(client.is_ready())  # Should print: `True`\n",
    "\n",
    "\"\"\""
   ]
  },
  {
   "cell_type": "markdown",
   "id": "b74df329-fea1-448e-84ac-ff7b649bb86a",
   "metadata": {},
   "source": [
    "## Step 2: Populate the database\n",
    "Now, we can populate our database by first defining a collection and then adding data.  \n",
    "The dataset we will use in this example consists of Jeopardy questions with categories and answers:\n",
    "\n",
    "```json\n",
    "[\n",
    "   {\n",
    "      \"Category\":\"SCIENCE\",\n",
    "      \"Question\":\"This organ removes excess glucose from the blood & stores it as glycogen\",\n",
    "      \"Answer\":\"Liver\"\n",
    "   },\n",
    "   {\n",
    "      \"Category\":\"ANIMALS\",\n",
    "      \"Question\":\"It's the only living mammal in the order Proboseidea\",\n",
    "      \"Answer\":\"Elephant\"\n",
    "   }...\n",
    "]\n",
    "```"
   ]
  },
  {
   "cell_type": "markdown",
   "id": "ed325ab5-0ca9-4e21-a565-506dbebd1424",
   "metadata": {},
   "source": [
    "### 2.1 Define a collection\n",
    "\n",
    "> 💡 **What is a collection?** A collection is a set of objects that share the same data structure, like a table in relational databases or a collection in NoSQL databases. A collection also includes additional configurations that define how the data objects are stored and indexed.\n",
    "\n",
    "The following example creates a collection called `Question` with:\n",
    "\n",
    "* OpenAI [embedding model integration](https://weaviate.io/developers/weaviate/model-providers/openai/embeddings) to create vectors during ingestion & queries.\n",
    "* OpenAI [generative AI integrations](https://weaviate.io/developers/weaviate/model-providers/openai/generative) for retrieval augmented generation (RAG).\n",
    "\n",
    "Run this code to create the collection to which you can add data:"
   ]
  },
  {
   "cell_type": "code",
   "execution_count": 7,
   "id": "7c3e8383-caf7-4cb4-ba62-711f0acdf711",
   "metadata": {},
   "outputs": [
    {
     "name": "stdout",
     "output_type": "stream",
     "text": [
      "Collection has been created: True\n"
     ]
    }
   ],
   "source": [
    "from weaviate.classes.config import Configure\n",
    "\n",
    "questions = client.collections.create(\n",
    "    name=\"Question\",\n",
    "    vectorizer_config=Configure.Vectorizer.text2vec_openai(),   # Configure the OpenAI embedding integration\n",
    "    generative_config=Configure.Generative.openai()             # Configure the OpenAI generative AI integration\n",
    ")\n",
    "\n",
    "print(f\"Collection has been created: {questions.exists()}\")\n"
   ]
  },
  {
   "cell_type": "markdown",
   "id": "4faa4910-e703-4c49-b040-519f3b58c2da",
   "metadata": {},
   "source": [
    "### 2.2 Add objects\n",
    "\n",
    "We can now add data to our collection. The following example:\n",
    "* Loads objects from a JSON file, and\n",
    "* Adds objects to the target collection `Question` using a batch process."
   ]
  },
  {
   "cell_type": "code",
   "execution_count": 8,
   "id": "0b277626-3ed7-4fff-a0a4-dc21cc4f4903",
   "metadata": {},
   "outputs": [
    {
     "name": "stdout",
     "output_type": "stream",
     "text": [
      "Added new object with UUID: 9d17c854-df62-4364-aeec-6cf2c7c5240e\n",
      "Added new object with UUID: 6360ae92-f90d-4862-892f-dacbf4c85f82\n",
      "Added new object with UUID: febab836-d60b-46f5-9395-3f6a053017d8\n",
      "Added new object with UUID: 02d010c5-37f0-43a3-ae4f-32aa1500c2da\n",
      "Added new object with UUID: 445ae819-e8b2-477d-bb31-ddca5de1b0d9\n",
      "Added new object with UUID: 4b2a9984-0ea9-43f1-b9cb-b958b5fa2ef6\n",
      "Added new object with UUID: f380f090-31a2-497c-abca-ddd906bfb171\n",
      "Added new object with UUID: fd137a04-57de-4b1f-9f47-cc6aa330f568\n",
      "Added new object with UUID: 5a52fc69-8e66-4f99-bb40-4019eb2fb205\n",
      "Added new object with UUID: 6739d9da-758d-4af7-8709-379c482e41b4\n"
     ]
    }
   ],
   "source": [
    "import requests, json\n",
    "\n",
    "resp = requests.get(\n",
    "    \"https://raw.githubusercontent.com/weaviate-tutorials/quickstart/main/data/jeopardy_tiny.json\"\n",
    ")\n",
    "data = json.loads(resp.text)\n",
    "\n",
    "questions = client.collections.get(\"Question\")\n",
    "\n",
    "with questions.batch.dynamic() as batch:\n",
    "    for d in data:\n",
    "        uuid = batch.add_object({\n",
    "            \"answer\": d[\"Answer\"],\n",
    "            \"question\": d[\"Question\"],\n",
    "            \"category\": d[\"Category\"],\n",
    "        })\n",
    "        print(f\"Added new object with UUID: {uuid}\")\n"
   ]
  },
  {
   "cell_type": "markdown",
   "id": "cdbb85b9-554f-489c-afe0-243dea065e1b",
   "metadata": {},
   "source": [
    "## Step 3: Queries\n",
    "Weaviate provides a wide range of query tools to help you find the right data. We will try a few searches here.\n",
    "\n",
    "### 3.1 Semantic search\n",
    "\n",
    "Semantic search finds results based on meaning. This is called `nearText` in Weaviate.\n",
    "\n",
    "The following example searches for 2 objects whose meaning is most similar to that of `biology`."
   ]
  },
  {
   "cell_type": "code",
   "execution_count": 9,
   "id": "c109d3c6-47a8-42f2-8041-afda20e6c19b",
   "metadata": {},
   "outputs": [
    {
     "name": "stdout",
     "output_type": "stream",
     "text": [
      "{\n",
      "  \"answer\": \"DNA\",\n",
      "  \"question\": \"In 1953 Watson & Crick built a model of the molecular structure of this, the gene-carrying substance\",\n",
      "  \"category\": \"SCIENCE\"\n",
      "}\n",
      "{\n",
      "  \"answer\": \"species\",\n",
      "  \"question\": \"2000 news: the Gunnison sage grouse isn't just another northern sage grouse, but a new one of this classification\",\n",
      "  \"category\": \"SCIENCE\"\n",
      "}\n"
     ]
    }
   ],
   "source": [
    "questions = client.collections.get(\"Question\")\n",
    "\n",
    "response = questions.query.near_text(\n",
    "    query=\"biology\",\n",
    "    limit=2\n",
    ")\n",
    "\n",
    "for obj in response.objects:\n",
    "    print(json.dumps(obj.properties, indent=2))\n"
   ]
  },
  {
   "cell_type": "markdown",
   "id": "a229c805-74dd-4da3-b901-b07741d376f1",
   "metadata": {},
   "source": [
    "**Where did the vectors come from?**  \n",
    "Weaviate used the OpenAI API key to generate a vector embedding for each object during import. During the query, Weaviate similarly converted the query (`biology`) into a vector. If you would prefer to provide your own vectors, check out [Starter Guide: Bring Your Own Vectors](https://weaviate.io/developers/weaviate/starter-guides/custom-vectors).\n",
    "\n",
    "> 💡 **More search types available**: Weaviate is capable of many types of searches. See, for example, our how-to guides on [similarity searches](https://weaviate.io/developers/weaviate/search/similarity), [keyword searches](https://weaviate.io/developers/weaviate/search/bm25), [hybrid searches](https://weaviate.io/developers/weaviate/search/hybrid), and [filtered searches](https://weaviate.io/developers/weaviate/search/filters)."
   ]
  },
  {
   "cell_type": "markdown",
   "id": "9f350e52-32cc-406f-8b5a-366ed2968551",
   "metadata": {},
   "source": [
    "## 3.2 Retrieval augmented generation\n",
    "Retrieval augmented generation (RAG), also called generative search, combines the power of generative AI models such as large language models (LLMs) with the up-to-date truthfulness of a database. RAG works by prompting a large language model with a combination of a user query and data retrieved from a database.\n",
    "\n",
    "The following example combines the same search (for `biology`) with a prompt to generate a tweet:"
   ]
  },
  {
   "cell_type": "code",
   "execution_count": 10,
   "id": "57e7839e-7100-4e01-b937-68344c877445",
   "metadata": {},
   "outputs": [
    {
     "name": "stdout",
     "output_type": "stream",
     "text": [
      "🧬 In 1953 Watson & Crick built a model of the molecular structure of DNA, the gene-carrying substance! 🧬🔬\n",
      "\n",
      "🦢 2000 news: the Gunnison sage grouse isn't just another northern sage grouse, but a new species! 🦢🌿 #ScienceFacts #DNA #SpeciesClassification\n"
     ]
    }
   ],
   "source": [
    "questions = client.collections.get(\"Question\")\n",
    "\n",
    "response = questions.generate.near_text(\n",
    "    query=\"biology\",\n",
    "    limit=2,\n",
    "    grouped_task=\"Write a tweet with emojis about these facts.\"\n",
    ")\n",
    "\n",
    "print(response.generated)  # Inspect the generated text"
   ]
  },
  {
   "cell_type": "markdown",
   "id": "09bc4def-62e3-4db2-ba96-617cc3b9a2f7",
   "metadata": {},
   "source": [
    "## Next steps\n",
    "\n",
    "Now it's time to decide on what to do next with Weaviate!  \n",
    "Check out the **[Imports in detail](https://weaviate.io/developers/weaviate/tutorials/import)** or the **[Querying in detail](https://weaviate.io/developers/weaviate/tutorials/query)** tutorials to find out more on how to analyze your own data with Weaviate."
   ]
  },
  {
   "cell_type": "markdown",
   "id": "b2a32d13-c38d-4761-acf4-4515f225054e",
   "metadata": {},
   "source": [
    "## Troubleshooting\n",
    "\n",
    "If you encounter any problems take a look at our **[troubleshooting section](https://weaviate.io/developers/weaviate/quickstart#troubleshooting)**.  \n",
    "You can also ask questions and leave feedback on our **[user forum](https://forum.weaviate.io/)**."
   ]
  }
 ],
 "metadata": {
  "kernelspec": {
   "display_name": "Python 3 (ipykernel)",
   "language": "python",
   "name": "python3"
  },
  "language_info": {
   "codemirror_mode": {
    "name": "ipython",
    "version": 3
   },
   "file_extension": ".py",
   "mimetype": "text/x-python",
   "name": "python",
   "nbconvert_exporter": "python",
   "pygments_lexer": "ipython3",
   "version": "3.10.12"
  }
 },
 "nbformat": 4,
 "nbformat_minor": 5
}
